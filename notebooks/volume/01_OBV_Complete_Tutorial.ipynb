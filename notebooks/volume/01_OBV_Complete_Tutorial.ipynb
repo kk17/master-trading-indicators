{
 "cells": [
  {
   "cell_type": "markdown",
   "metadata": {},
   "source": [
    "## 3. Data Download",
    "Let's download historical crypto data for our analysis."
   ]
  },
  {
   "cell_type": "markdown",
   "metadata": {},
   "source": [
    "## 2. Mathematical Formula",
    "### OBV Formula",
    "``",
    "If Close > Close[1] then OBV = OBV[1] + Volume",
    "If Close < Close[1] then OBV = OBV[1] - Volume",
    "If Close = Close[1] then OBV = OBV[1]",
    "``",
    "### Step-by-Step Calculation:",
    "1. Start with an initial OBV value (typically 0)",
    "2. Compare today's closing price to yesterday's closing price",
    "3. If today's close is higher, add today's volume to OBV",
    "4. If today's close is lower, subtract today's volume from OBV",
    "5. If today's close equals yesterday's close, OBV remains unchanged"
   ]
  },
  {
   "cell_type": "code",
   "metadata": {},
   "outputs": [],
   "source": [
    "import pandas as pd",
    "import numpy as np",
    "import matplotlib.pyplot as plt",
    "import seaborn as sns",
    "import plotly.graph_objects as go",
    "from plotly.subplots import make_subplots",
    "import ccxt",
    "from datetime import datetime, timedelta",
    "import sys",
    "sys.path.append('../utils')",
    "",
    "# Import utilities",
    "from data_downloader import DataDownloader",
    "from indicators import IndicatorCalculator",
    "from backtest_engine import BacktestEngine, StrategyGenerator",
    "",
    "# Set style for better visualizations",
    "plt.style.use('seaborn-v0_8')",
    "sns.set_palette(\"husl\")",
    "",
    "# Display settings",
    "pd.set_option('display.max_columns', None)",
    "pd.set_option('display.width', 1000)",
    "",
    "print(\"Libraries imported successfully!\")"
   ]
  },
  {
   "cell_type": "markdown",
   "metadata": {},
   "source": [
    "## 1. Introduction to On-Balance Volume (OBV)",
    "### What is OBV?",
    "The On-Balance Volume (OBV) is a technical trading indicator that uses volume flow to predict changes in stock price. Developed by Joe Granville in the 1960s, OBV is a cumulative total of volume that adds volume on up days and subtracts volume on down days.",
    "### Why Use OBV?",
    "- **Volume Confirmation**: Confirms price movements with volume",
    "- **Trend Validation**: Validates the strength of price trends",
    "- **Divergence Detection**: Identifies potential trend reversals",
    "- **Leading Indicator**: Can signal changes before price action"
   ]
  },
  {
   "cell_type": "markdown",
   "metadata": {},
   "source": [
    "# On-Balance Volume (OBV) - Complete Trading Tutorial",
    "## Overview",
    "This notebook provides a comprehensive tutorial on the On-Balance Volume (OBV) indicator, including:",
    "- Concept and theory",
    "- Mathematical formula and calculation",
    "- Manual implementation in Python",
    "- TradingView integration",
    "- Binance platform usage",
    "- Practical trading strategies",
    "- Backtesting examples"
   ]
  },
  {
   "cell_type": "code",
   "source": "# Initialize data downloader\ndownloader = DataDownloader()\n\n# Download BTC/USDT data\npair = \"BTC/USDT\"\ntimeframe = \"1d\"\ndays = 365\n\nprint(f\"Downloading {pair} data for {days} days...\")\ndf = downloader.get_market_data(pair, timeframe, days, source='ccxt')\n\nif df is not None:\n    print(f\"\\nDownloaded {len(df)} candles of {pair} data\")\n    print(f\"Date range: {df.index[0]} to {df.index[-1]}\")\n    print(f\"\\nFirst few rows:\")\n    display(df.head())\nelse:\n    print(\"Failed to download data\")",
   "metadata": {},
   "execution_count": null,
   "outputs": []
  },
  {
   "cell_type": "markdown",
   "source": "## 4. Manual Calculation of OBV\n\nLet's implement OBV from scratch to understand how it works.",
   "metadata": {}
  },
  {
   "cell_type": "code",
   "source": "def calculate_obv_manual(data):\n    \"\"\"\n    Calculate On-Balance Volume manually\n    \"\"\"\n    obv = [0]  # Start with initial OBV value of 0\n    \n    for i in range(1, len(data)):\n        if data['close'].iloc[i] > data['close'].iloc[i-1]:\n            # Up day: Add volume\n            obv.append(obv[-1] + data['volume'].iloc[i])\n        elif data['close'].iloc[i] < data['close'].iloc[i-1]:\n            # Down day: Subtract volume\n            obv.append(obv[-1] - data['volume'].iloc[i])\n        else:\n            # No change: OBV remains the same\n            obv.append(obv[-1])\n    \n    return pd.Series(obv, index=data.index)\n\n# Calculate OBV manually\ndf_manual = df.copy()\ndf_manual['obv'] = calculate_obv_manual(df_manual)\n\nprint(\"OBV calculated manually:\")\ndisplay(df_manual[['close', 'volume', 'obv']].tail(10))\n\n# Let's verify the calculation manually for a few rows\nprint(\"\\nManual verification of OBV for the last 5 rows:\")\nfor i in range(-5, 0):\n    idx = df_manual.index[i]\n    prev_idx = df_manual.index[i-1]\n    close = df_manual['close'].iloc[i]\n    prev_close = df_manual['close'].iloc[i-1]\n    volume = df_manual['volume'].iloc[i]\n    obv = df_manual['obv'].iloc[i]\n    prev_obv = df_manual['obv'].iloc[i-1]\n    \n    if close > prev_close:\n        expected = prev_obv + volume\n        action = \"Added volume\"\n    elif close < prev_close:\n        expected = prev_obv - volume\n        action = \"Subtracted volume\"\n    else:\n        expected = prev_obv\n        action = \"No change\"\n    \n    print(f\"{idx.date()}: Close={close:.2f}, Volume={volume:.0f}, OBV={obv:.0f} ({action})\")",
   "metadata": {},
   "execution_count": null,
   "outputs": []
  },
  {
   "cell_type": "markdown",
   "source": "## 5. Library Implementation\n\nNow let's use established libraries to calculate OBV.",
   "metadata": {}
  },
  {
   "cell_type": "code",
   "source": "# Using our utilities\ndf_utils = df.copy()\ndf_utils['obv_utils'] = IndicatorCalculator.obv(df_utils['close'], df_utils['volume'])\n\n# Using pandas-ta\nimport pandas_ta as ta\ndf_ta = df.copy()\ndf_ta.ta.obv(volume='volume', cumulative=True, append=True)\n\n# Using TA-Lib\ntry:\n    import talib\n    df_talib = df.copy()\n    df_talib['obv_talib'] = talib.OBV(df_talib['close'].values, df_talib['volume'].values)\n    print(\"TA-Lib OBV calculated successfully\")\nexcept ImportError:\n    print(\"TA-Lib not installed, skipping TA-Lib example\")\n    df_talib = df.copy()\n    df_talib['obv_talib'] = np.nan\n\n# Compare results\nprint(\"Comparison of different OBV implementations:\")\ncomparison = pd.DataFrame({\n    'Manual': df_manual['obv'],\n    'Utils': df_utils['obv_utils'],\n    'Pandas-TA': df_ta['OBV'],\n    'TA-Lib': df_talib['obv_talib']\n})\n\ndisplay(comparison.dropna().tail(10))\n\n# Check if all methods produce similar results\nprint(\"\\nDifferences between methods:\")\nprint(f\"Manual vs Utils max difference: {abs(comparison['Manual'] - comparison['Utils']).max():.8f}\")\nprint(f\"Manual vs Pandas-TA max difference: {abs(comparison['Manual'] - comparison['Pandas-TA']).max():.8f}\")",
   "metadata": {},
   "execution_count": null,
   "outputs": []
  },
  {
   "cell_type": "markdown",
   "source": "## 6. Visualization\n\nLet's visualize OBV with price action.",
   "metadata": {}
  },
  {
   "cell_type": "code",
   "source": "# Create interactive plot\nfig = make_subplots(\n    rows=2, cols=1,\n    subplot_titles=(f'{pair} - Price Action', f'{pair} - On-Balance Volume (OBV)'),\n    vertical_spacing=0.1,\n    row_heights=[0.6, 0.4]\n)\n\n# Price chart\nfig.add_trace(\n    go.Candlestick(\n        x=df_manual.index,\n        open=df_manual['open'],\n        high=df_manual['high'],\n        low=df_manual['low'],\n        close=df_manual['close'],\n        name='Price'\n    ),\n    row=1, col=1\n)\n\n# OBV line\nfig.add_trace(\n    go.Scatter(\n        x=df_manual.index,\n        y=df_manual['obv'],\n        mode='lines',\n        name='OBV',\n        line=dict(color='blue', width=2)\n    ),\n    row=2, col=1\n)\n\n# Add OBV moving average for trend identification\ndf_manual['obv_ma'] = df_manual['obv'].rolling(window=10).mean()\nfig.add_trace(\n    go.Scatter(\n        x=df_manual.index,\n        y=df_manual['obv_ma'],\n        mode='lines',\n        name='OBV MA(10)',\n        line=dict(color='orange', width=1, dash='dash')\n    ),\n    row=2, col=1\n)\n\nfig.update_layout(\n    title=f'{pair} - On-Balance Volume (OBV)',\n    template='plotly_dark',\n    height=800,\n    xaxis_rangeslider_visible=False\n)\n\nfig.show()\n\n# Create static plot showing OBV characteristics\nplt.figure(figsize=(15, 10))\n\n# Price and OBV\nplt.subplot(2, 1, 1)\nplt.plot(df_manual.index, df_manual['close'], label='Price', alpha=0.7, color='black')\nplt.title(f'{pair} - Price Action')\nplt.ylabel('Price (USDT)')\nplt.legend()\nplt.grid(True, alpha=0.3)\n\nplt.subplot(2, 1, 2)\nplt.plot(df_manual.index, df_manual['obv'], label='OBV', alpha=0.8, color='blue')\nplt.plot(df_manual.index, df_manual['obv_ma'], label='OBV MA(10)', alpha=0.7, color='orange', linestyle='--')\nplt.title('On-Balance Volume (OBV)')\nplt.xlabel('Date')\nplt.ylabel('OBV')\nplt.legend()\nplt.grid(True, alpha=0.3)\n\nplt.tight_layout()\nplt.show()",
   "metadata": {},
   "execution_count": null,
   "outputs": []
  },
  {
   "cell_type": "markdown",
   "source": "## 7. TradingView Integration\n\n### Pine Script for OBV\n\n```pine\n// On-Balance Volume (OBV) Pine Script\n//@version=5\nindicator(\"On-Balance Volume\", shorttitle=\"OBV\", format=format.volume)\n\n// Input parameters\nlength = input.int(10, title=\"MA Length\", minval=1)\nsource = input.source(close, \"Source\")\n\n// Calculate OBV\nobv = ta.cum(sign(source - source[1]) * volume)\n\n// Calculate OBV moving average\nobv_ma = ta.sma(obv, length)\n\n// Plot OBV\nplot(obv, title=\"OBV\", color=color.blue, linewidth=2)\nplot(obv_ma, title=\"OBV MA\", color=color.orange, linewidth=1, style=plot.style_line_dashed)\n\n// Add signals\nbuySignal = ta.crossover(obv, obv_ma)\nsellSignal = ta.crossunder(obv, obv_ma)\n\nplotshape(buySignal, title=\"Buy Signal\", location=location.absolute, color=color.green, style=shape.triangleup, size=size.small)\nplotshape(sellSignal, title=\"Sell Signal\", location=location.absolute, color=color.red, style=shape.triangledown, size=size.small)\n\n// Divergence detection\nbullishDiv = ta.divergence(obv, low, 5)\nbearishDiv = ta.divergence(obv, high, 5)\n\nplotshape(bullishDiv, title=\"Bullish Divergence\", location=location.belowbar, color=color.lime, style=shape.triangleup, size=size.tiny)\nplotshape(bearishDiv, title=\"Bearish Divergence\", location=location.abovebar, color=color.red, style=shape.triangledown, size=size.tiny)\n```\n\n### How to Add to TradingView:\n1. Open TradingView chart\n2. Click on \"Pine Editor\" tab at the bottom\n3. Copy and paste the script above\n4. Click \"Add to Chart\"\n5. Adjust parameters in the settings\n\n### TradingView Built-in OBV:\n1. Click on \"Indicators\" at the top\n2. Search for \"On-Balance Volume\"\n3. Select \"OBV\" from the list\n4. Adjust moving average length and other parameters",
   "metadata": {}
  },
  {
   "cell_type": "markdown",
   "source": "## 8. Binance Integration\n\n### How to Add OBV on Binance:\n1. Open Binance trading interface\n2. Select your trading pair (e.g., BTC/USDT)\n3. Click on \"Indicators\" at the top of the chart\n4. Search for \"On-Balance Volume\"\n5. Select \"OBV\" from the list\n6. In the settings:\n   - Set \"MA Length\" (default: 10)\n   - Choose color and line style\n   - Adjust source (Close, Open, High, Low, etc.)\n7. Click \"Apply\"\n\n### Binance OBV Parameters:\n- **MA Length**: 1-50 (common values: 10, 20, 30)\n- **Source**: Close, Open, High, Low, HL/2, HLC/3, OHLC/4\n- **Color**: Custom color selection\n- **Line Style**: Solid, Dashed, Dotted\n- **Line Width**: 1-5 pixels",
   "metadata": {}
  },
  {
   "cell_type": "markdown",
   "source": "## 9. Trading Strategies\n\n### Strategy 1: OBV Trend Following\n**Description**: Follow the trend indicated by OBV and its moving average\n\n**Rules**:\n- **Entry**: Buy when OBV crosses above its moving average; Sell when OBV crosses below its moving average\n- **Exit**: When OBV crosses back in the opposite direction\n- **Stop Loss**: 2-3% below entry price for long positions, above for short positions\n- **Take Profit**: 5-10% above entry price or when opposite signal occurs",
   "metadata": {}
  },
  {
   "cell_type": "code",
   "source": "def obv_trend_following_strategy(data, obv_period=10):\n    \"\"\"\n    OBV Trend Following Strategy\n    \"\"\"\n    df = data.copy()\n    \n    # Calculate OBV and its moving average\n    df['obv'] = IndicatorCalculator.obv(df['close'], df['volume'])\n    df['obv_ma'] = df['obv'].rolling(window=obv_period).mean()\n    \n    # Generate signals\n    df['signal'] = 0\n    df['obv_cross_above'] = (df['obv'] > df['obv_ma']) & (df['obv'].shift(1) <= df['obv_ma'].shift(1))\n    df['obv_cross_below'] = (df['obv'] < df['obv_ma']) & (df['obv'].shift(1) >= df['obv_ma'].shift(1))\n    \n    df.loc[df['obv_cross_above'], 'signal'] = 1  # Buy signal\n    df.loc[df['obv_cross_below'], 'signal'] = -1  # Sell signal\n    \n    return df\n\n# Apply strategy\ndf_obv_trend = obv_trend_following_strategy(df_manual)\n\n# Plot signals\nfig = make_subplots(\n    rows=2, cols=1,\n    subplot_titles=(f'{pair} - OBV Trend Following Strategy', f'{pair} - OBV'),\n    vertical_spacing=0.1,\n    row_heights=[0.6, 0.4]\n)\n\n# Price chart\nfig.add_trace(\n    go.Candlestick(\n        x=df_obv_trend.index,\n        open=df_obv_trend['open'],\n        high=df_obv_trend['high'],\n        low=df_obv_trend['low'],\n        close=df_obv_trend['close'],\n        name='Price'\n    ),\n    row=1, col=1\n)\n\n# Buy signals\nbuy_signals = df_obv_trend[df_obv_trend['obv_cross_above']]\nfig.add_trace(\n    go.Scatter(\n        x=buy_signals.index,\n        y=buy_signals['close'],\n        mode='markers',\n        marker=dict(symbol='triangle-up', size=12, color='green'),\n        name='Buy Signal'\n    ),\n    row=1, col=1\n)\n\n# Sell signals\nsell_signals = df_obv_trend[df_obv_trend['obv_cross_below']]\nfig.add_trace(\n    go.Scatter(\n        x=sell_signals.index,\n        y=sell_signals['close'],\n        mode='markers',\n        marker=dict(symbol='triangle-down', size=12, color='red'),\n        name='Sell Signal'\n    ),\n    row=1, col=1\n)\n\n# OBV chart\nfig.add_trace(\n    go.Scatter(\n        x=df_obv_trend.index,\n        y=df_obv_trend['obv'],\n        mode='lines',\n        name='OBV',\n        line=dict(color='blue', width=2)\n    ),\n    row=2, col=1\n)\n\n# OBV MA\nfig.add_trace(\n    go.Scatter(\n        x=df_obv_trend.index,\n        y=df_obv_trend['obv_ma'],\n        mode='lines',\n        name='OBV MA(10)',\n        line=dict(color='orange', width=1, dash='dash')\n    ),\n    row=2, col=1\n)\n\nfig.update_layout(\n    title=f'{pair} - OBV Trend Following Strategy',\n    template='plotly_dark',\n    height=800\n)\n\nfig.show()\n\nprint(f\"Total buy signals: {len(buy_signals)}\")\nprint(f\"Total sell signals: {len(sell_signals)}\")\nprint(f\"\\nRecent signals:\")\nrecent_signals = df_obv_trend[df_obv_trend['obv_cross_above'] | df_obv_trend['obv_cross_below']].tail(10)\ndisplay(recent_signals[['close', 'obv', 'obv_ma', 'obv_cross_above', 'obv_cross_below']])",
   "metadata": {},
   "execution_count": null,
   "outputs": []
  },
  {
   "cell_type": "markdown",
   "source": "### Strategy 2: OBV Divergence\n**Description**: Trade based on divergence between price and OBV\n\n**Rules**:\n- **Bullish Divergence**: Price makes lower lows while OBV makes higher lows\n- **Bearish Divergence**: Price makes higher highs while OBV makes lower highs\n- **Entry**: When divergence is confirmed\n- **Exit**: When OBV reaches opposite extreme or divergence pattern completes",
   "metadata": {}
  },
  {
   "cell_type": "code",
   "source": "def detect_obv_divergence(data, obv_period=10, lookback=5):\n    \"\"\"\n    Detect OBV divergence patterns\n    \"\"\"\n    df = data.copy()\n    \n    # Calculate OBV\n    df['obv'] = IndicatorCalculator.obv(df['close'], df['volume'])\n    \n    # Find local minima and maxima\n    df['price_low'] = df['close'].rolling(window=lookback, center=True).min()\n    df['price_high'] = df['close'].rolling(window=lookback, center=True).max()\n    df['obv_low'] = df['obv'].rolling(window=lookback, center=True).min()\n    df['obv_high'] = df['obv'].rolling(window=lookback, center=True).max()\n    \n    # Detect divergences\n    df['bullish_divergence'] = False\n    df['bearish_divergence'] = False\n    \n    for i in range(lookback, len(df) - lookback):\n        # Bullish divergence: lower price low, higher OBV low\n        if (df['price_low'].iloc[i] < df['price_low'].iloc[i-lookback] and\n            df['obv_low'].iloc[i] > df['obv_low'].iloc[i-lookback]):\n            df.iloc[i, df.columns.get_loc('bullish_divergence')] = True\n        \n        # Bearish divergence: higher price high, lower OBV high\n        if (df['price_high'].iloc[i] > df['price_high'].iloc[i-lookback] and\n            df['obv_high'].iloc[i] < df['obv_high'].iloc[i-lookback]):\n            df.iloc[i, df.columns.get_loc('bearish_divergence')] = True\n    \n    # Generate signals\n    df['signal'] = 0\n    df.loc[df['bullish_divergence'], 'signal'] = 1\n    df.loc[df['bearish_divergence'], 'signal'] = -1\n    \n    return df\n\n# Apply strategy\ndf_obv_div = detect_obv_divergence(df_manual)\n\n# Create signals DataFrame for backtesting\nobv_div_signals = pd.DataFrame(index=df_obv_div.index)\nobv_div_signals['signal'] = df_obv_div['signal']\n\nprint(f\"Bullish divergences detected: {df_obv_div['bullish_divergence'].sum()}\")\nprint(f\"Bearish divergences detected: {df_obv_div['bearish_divergence'].sum()}\")\n\n# Plot divergences\nplt.figure(figsize=(15, 10))\n\nplt.subplot(2, 1, 1)\nplt.plot(df_obv_div.index, df_obv_div['close'], label='Price', alpha=0.7, color='black')\nplt.scatter(df_obv_div[df_obv_div['bullish_divergence']].index, \n            df_obv_div[df_obv_div['bullish_divergence']]['close'], \n            color='green', s=100, marker='^', label='Bullish Divergence', zorder=5)\nplt.scatter(df_obv_div[df_obv_div['bearish_divergence']].index, \n            df_obv_div[df_obv_div['bearish_divergence']]['close'], \n            color='red', s=100, marker='v', label='Bearish Divergence', zorder=5)\nplt.title(f'{pair} - OBV Divergence Strategy')\nplt.ylabel('Price (USDT)')\nplt.legend()\nplt.grid(True, alpha=0.3)\n\nplt.subplot(2, 1, 2)\nplt.plot(df_obv_div.index, df_obv_div['obv'], label='OBV', alpha=0.8, color='blue')\nplt.title('On-Balance Volume (OBV)')\nplt.xlabel('Date')\nplt.ylabel('OBV')\nplt.legend()\nplt.grid(True, alpha=0.3)\n\nplt.tight_layout()\nplt.show()",
   "metadata": {},
   "execution_count": null,
   "outputs": []
  },
  {
   "cell_type": "markdown",
   "source": "### Strategy 3: OBV with Price Confirmation\n**Description**: Use OBV signals only when confirmed by price action\n\n**Rules**:\n- **Entry**: OBV trend change AND price confirmation (breakout/breakdown)\n- **Exit**: When OBV signal reverses or price target reached\n- **Stop Loss**: Based on recent swing points\n- **Take Profit**: Based on risk-reward ratio or support/resistance levels",
   "metadata": {}
  },
  {
   "cell_type": "code",
   "source": "def obv_price_confirmation_strategy(data, obv_period=10, price_period=20):\n    \"\"\"\n    OBV with Price Confirmation Strategy\n    \"\"\"\n    df = data.copy()\n    \n    # Calculate indicators\n    df['obv'] = IndicatorCalculator.obv(df['close'], df['volume'])\n    df['obv_ma'] = df['obv'].rolling(window=obv_period).mean()\n    df['price_ma'] = IndicatorCalculator.sma(df['close'], price_period)\n    \n    # Determine OBV trend\n    df['obv_trend_up'] = df['obv'] > df['obv_ma']\n    df['obv_trend_down'] = df['obv'] < df['obv_ma']\n    \n    # Price confirmation signals\n    df['price_breakout'] = df['close'] > df['price_ma']\n    df['price_breakdown'] = df['close'] < df['price_ma']\n    \n    # Generate signals with confirmation\n    df['signal'] = 0\n    \n    # Buy signals: OBV trend up AND price breakout\n    buy_condition = df['obv_trend_up'] & df['price_breakout']\n    \n    # Sell signals: OBV trend down AND price breakdown\n    sell_condition = df['obv_trend_down'] & df['price_breakdown']\n    \n    df.loc[buy_condition, 'signal'] = 1\n    df.loc[sell_condition, 'signal'] = -1\n    \n    return df\n\n# Apply strategy\ndf_obv_confirm = obv_price_confirmation_strategy(df_manual)\n\n# Create signals DataFrame for backtesting\nobv_confirm_signals = pd.DataFrame(index=df_obv_confirm.index)\nobv_confirm_signals['signal'] = df_obv_confirm['signal']\n\nprint(f\"Buy signals (OBV up + price breakout): {(df_obv_confirm['signal'] == 1).sum()}\")\nprint(f\"Sell signals (OBV down + price breakdown): {(df_obv_confirm['signal'] == -1).sum()}\")\n\n# Plot strategy\nplt.figure(figsize=(15, 12))\n\nplt.subplot(3, 1, 1)\nplt.plot(df_obv_confirm.index, df_obv_confirm['close'], label='Price', alpha=0.7, color='black')\nplt.plot(df_obv_confirm.index, df_obv_confirm['price_ma'], label='SMA(20)', alpha=0.8, color='blue')\nplt.scatter(df_obv_confirm[df_obv_confirm['signal'] == 1].index, \n            df_obv_confirm[df_obv_confirm['signal'] == 1]['close'], \n            color='green', s=100, marker='^', label='Buy Signal', zorder=5)\nplt.scatter(df_obv_confirm[df_obv_confirm['signal'] == -1].index, \n            df_obv_confirm[df_obv_confirm['signal'] == -1]['close'], \n            color='red', s=100, marker='v', label='Sell Signal', zorder=5)\nplt.title(f'{pair} - OBV with Price Confirmation Strategy')\nplt.ylabel('Price (USDT)')\nplt.legend()\nplt.grid(True, alpha=0.3)\n\nplt.subplot(3, 1, 2)\nplt.plot(df_obv_confirm.index, df_obv_confirm['obv'], label='OBV', alpha=0.8, color='blue')\nplt.plot(df_obv_confirm.index, df_obv_confirm['obv_ma'], label='OBV MA(10)', alpha=0.7, color='orange', linestyle='--')\nplt.title('On-Balance Volume (OBV)')\nplt.ylabel('OBV')\nplt.legend()\nplt.grid(True, alpha=0.3)\n\nplt.subplot(3, 1, 3)\nplt.plot(df_obv_confirm.index, df_obv_confirm['obv_trend_up'], label='OBV Trend Up', alpha=0.7, color='green')\nplt.plot(df_obv_confirm.index, df_obv_confirm['obv_trend_down'], label='OBV Trend Down', alpha=0.7, color='red')\nplt.title('OBV Trend Filter')\nplt.xlabel('Date')\nplt.ylabel('Trend')\nplt.legend()\nplt.grid(True, alpha=0.3)\nplt.ylim(-0.1, 1.1)\n\nplt.tight_layout()\nplt.show()",
   "metadata": {},
   "execution_count": null,
   "outputs": []
  },
  {
   "cell_type": "markdown",
   "source": "## 10. Backtesting Results\n\nLet's backtest our strategies and analyze the results.",
   "metadata": {}
  },
  {
   "cell_type": "code",
   "source": "# Initialize backtest engine\nengine = BacktestEngine(initial_capital=10000)\n\n# Create signals for each strategy\nstrategies = {\n    'OBV_Trend_Following': df_obv_trend[['signal']],\n    'OBV_Divergence': obv_div_signals,\n    'OBV_Price_Confirmation': obv_confirm_signals\n}\n\n# Run backtests\nfor name, signals in strategies.items():\n    print(f\"Backtesting {name} strategy...\")\n    engine.run_backtest(df_manual, signals, name)\n\n# Compare strategies\ncomparison = engine.compare_strategies(list(strategies.keys()))\nprint(\"\\nStrategy Comparison:\")\ndisplay(comparison)\n\n# Plot equity curves\nengine.plot_equity_curve()\n\n# Plot drawdowns\nengine.plot_drawdown()",
   "metadata": {},
   "execution_count": null,
   "outputs": []
  },
  {
   "cell_type": "code",
   "source": "# Generate detailed report for the best strategy\nbest_strategy = comparison['total_return'].idxmax()\nprint(f\"Best performing strategy: {best_strategy}\")\nprint(engine.generate_report(best_strategy))",
   "metadata": {},
   "execution_count": null,
   "outputs": []
  },
  {
   "cell_type": "code",
   "source": "# Analyze trade statistics for the best strategy\nbest_data = engine.results[best_strategy]['data']\n\n# Analyze OBV levels at trade entries\ntrade_analysis = best_data[best_data['signal'] != 0].copy()\ntrade_analysis['obv'] = df_manual['obv']\ntrade_analysis['obv_ma'] = df_manual['obv_ma']\n\nif len(trade_analysis) > 0:\n    print(f\"\\nTrade Analysis for {best_strategy}:\")\n    print(f\"Total trades: {len(trade_analysis)}\")\n    print(f\"Buy trades: {len(trade_analysis[trade_analysis['signal'] == 1])}\")\n    print(f\"Sell trades: {len(trade_analysis[trade_analysis['signal'] == -1])}\")\n    print(f\"Average OBV at entry: {trade_analysis['obv'].mean():.0f}\")\n    print(f\"OBV range at entry: {trade_analysis['obv'].min():.0f} - {trade_analysis['obv'].max():.0f}\")\n    \n    # OBV distribution at trade entries\n    plt.figure(figsize=(12, 6))\n    plt.subplot(1, 2, 1)\n    plt.hist(trade_analysis['obv'], bins=20, alpha=0.7, edgecolor='black')\n    plt.title('OBV Distribution at Trade Entries')\n    plt.xlabel('OBV')\n    plt.ylabel('Frequency')\n    plt.grid(True, alpha=0.3)\n    \n    # Performance by OBV trend\n    trade_analysis['obv_trend'] = trade_analysis['obv'] > trade_analysis['obv_ma']\n    trend_performance = trade_analysis.groupby('obv_trend')['strategy_returns'].mean() * 100\n    \n    plt.subplot(1, 2, 2)\n    trend_performance.plot(kind='bar', color=['red', 'green'])\n    plt.title('Average Returns by OBV Trend')\n    plt.xlabel('OBV Trend (False = Below MA, True = Above MA)')\n    plt.ylabel('Average Return (%)')\n    plt.axhline(y=0, color='black', linestyle='--')\n    plt.grid(True, alpha=0.3)\n    \n    plt.tight_layout()\n    plt.show()\nelse:\n    print(\"No trades completed in the backtest period\")",
   "metadata": {},
   "execution_count": null,
   "outputs": []
  },
  {
   "cell_type": "markdown",
   "source": "## 11. Pros and Cons\n\n### Advantages:\n- \u2705 **Volume Confirmation**: Validates price movements with actual trading volume\n- \u2705 **Trend Strength**: Measures the strength of price trends through volume flow\n- \u2705 **Leading Indicator**: Can signal changes in trend before price action\n- \u2705 **Divergence Detection**: Identifies potential trend reversals early\n- \u2705 **Simple Concept**: Easy to understand and interpret\n\n### Disadvantages:\n- \u274c **No Boundaries**: Unlike oscillators, OBV has no upper or lower limits\n- \u274c **False Signals**: Can generate false signals during choppy market conditions\n- \u274c **Lagging Component**: Moving average component can cause delayed signals\n- \u274c **Sensitive to Spikes**: Large volume spikes can distort the indicator\n- \u274c **Requires Confirmation**: Should not be used as a standalone indicator\n\n### When to Use:\n- **Trend Confirmation**: To confirm the strength of existing price trends\n- **Divergence Trading**: To identify potential reversals through divergence\n- **Breakout Validation**: To validate breakouts with volume confirmation\n- **Multiple Timeframes**: For confluence analysis across different timeframes\n\n### When to Avoid:\n- **Low Volume Periods**: Less reliable during periods of low trading volume\n- **High Volatility**: Can be distorted by volume spikes during news events\n- **As Standalone**: Should not be used as the only indicator for trading decisions\n- **Choppy Markets**: Can generate false signals in sideways markets",
   "metadata": {}
  },
  {
   "cell_type": "markdown",
   "source": "## 12. Advanced OBV Techniques\n\n### 1. OBV with Multiple Timeframes\nUse OBV on different timeframes to get a broader market perspective:\n- **Long-term**: OBV on daily charts for overall trend\n- **Medium-term**: OBV on 4-hour charts for intermediate signals\n- **Short-term**: OBV on 1-hour charts for entry timing\n\n### 2. OBV and Moving Averages\nCombine OBV with moving averages for better signals:\n- **OBV MA Cross**: Signal when OBV crosses its own moving average\n- **Price and OBV Confluence**: Trade only when price and OBV trends align\n\n### 3. OBV Rate of Change\nCreate dynamic signals based on the rate of change of OBV:\n- **Momentum**: Measure the speed of OBV changes\n- **Acceleration**: Identify when volume flow is increasing or decreasing\n\n### 4. OBV and Price Correlation\nAnalyze the relationship between price and volume:\n- **Positive Correlation**: Strong trends with confirming volume\n- **Negative Correlation**: Divergence between price and volume",
   "metadata": {}
  },
  {
   "cell_type": "code",
   "source": "# Advanced OBV Techniques\ndf_advanced = df_manual.copy()\n\n# 1. OBV with Moving Averages\ndf_advanced['obv_ma_10'] = df_advanced['obv'].rolling(window=10).mean()\ndf_advanced['obv_ma_20'] = df_advanced['obv'].rolling(window=20).mean()\n\n# 2. OBV Rate of Change\ndf_advanced['obv_roc'] = df_advanced['obv'].pct_change() * 100\n\n# 3. OBV and Price Correlation\ndf_advanced['price_obv_corr'] = df_advanced['close'].rolling(window=20).corr(df_advanced['obv'])\n\n# 4. OBV Volatility (standard deviation)\ndf_advanced['obv_std'] = df_advanced['obv'].rolling(window=14).std()\n\n# Plot advanced techniques\nfig, axes = plt.subplots(2, 2, figsize=(15, 12))\n\n# OBV with Moving Averages\naxes[0, 0].plot(df_advanced.index, df_advanced['obv'], label='OBV', color='blue')\naxes[0, 0].plot(df_advanced.index, df_advanced['obv_ma_10'], label='OBV MA(10)', color='orange')\naxes[0, 0].plot(df_advanced.index, df_advanced['obv_ma_20'], label='OBV MA(20)', color='purple')\naxes[0, 0].set_title('OBV with Moving Averages')\naxes[0, 0].legend()\naxes[0, 0].grid(True, alpha=0.3)\n\n# OBV Rate of Change\naxes[0, 1].plot(df_advanced.index, df_advanced['obv_roc'], label='OBV Rate of Change', color='green')\naxes[0, 1].axhline(y=0, color='black', linestyle='--', alpha=0.5)\naxes[0, 1].fill_between(df_advanced.index, df_advanced['obv_roc'], 0, alpha=0.3, color='green')\naxes[0, 1].set_title('OBV Rate of Change')\naxes[0, 1].set_ylabel('Rate of Change (%)')\naxes[0, 1].legend()\naxes[0, 1].grid(True, alpha=0.3)\n\n# OBV and Price Correlation\naxes[1, 0].plot(df_advanced.index, df_advanced['price_obv_corr'], label='Price-OBV Correlation', color='red')\naxes[1, 0].axhline(y=0, color='black', linestyle='--', alpha=0.5)\naxes[1, 0].axhline(y=0.5, color='green', linestyle='--', alpha=0.5, label='Strong Positive Correlation')\naxes[1, 0].axhline(y=-0.5, color='red', linestyle='--', alpha=0.5, label='Strong Negative Correlation')\naxes[1, 0].set_title('Price-OBV Correlation')\naxes[1, 0].set_ylabel('Correlation')\naxes[1, 0].legend()\naxes[1, 0].grid(True, alpha=0.3)\naxes[1, 0].set_ylim(-1, 1)\n\n# OBV Volatility\naxes[1, 1].plot(df_advanced.index, df_advanced['obv_std'], label='OBV Volatility', color='purple')\naxes[1, 1].set_title('OBV Volatility (Standard Deviation)')\naxes[1, 1].set_ylabel('Standard Deviation')\naxes[1, 1].legend()\naxes[1, 1].grid(True, alpha=0.3)\n\nplt.tight_layout()\nplt.show()\n\n# Analysis of extreme OBV movements\nprint(\"Extreme OBV Movement Analysis:\")\nextreme_roc = df_advanced[abs(df_advanced['obv_roc']) > 10][['close', 'obv', 'obv_roc']]\n\nif len(extreme_roc) > 0:\n    print(f\"Found {len(extreme_roc)} instances of extreme OBV movements (>10% in one period)\")\n    display(extreme_roc.head())\nelse:\n    print(\"No extreme OBV movements found in the dataset\")",
   "metadata": {},
   "execution_count": null,
   "outputs": []
  },
  {
   "cell_type": "markdown",
   "source": "## 13. Risk Management with OBV\n\n### 1. Position Sizing Based on OBV Strength\n- **Strong OBV Trend**: Larger positions when OBV shows strong confirmation\n- **Weak OBV Trend**: Smaller positions when OBV is neutral or conflicting\n- **Divergence**: Increased position size on confirmed divergence signals\n\n### 2. Stop Loss Placement\n- **OBV Confirmation**: Place stop loss below recent swing low for long positions\n- **Moving Average**: Use OBV moving average as a dynamic stop level\n- **ATR-Based**: Use ATR to determine stop loss distance based on volatility\n\n### 3. Take Profit Levels\n- **OBV Targets**: Take profit when OBV reaches previous significant levels\n- **Scaling Out**: Partial profits at different OBV milestones\n- **Trailing Stops**: Use OBV moving average for trailing stop adjustments",
   "metadata": {}
  },
  {
   "cell_type": "code",
   "source": "# Risk Management with OBV\ndf_risk = df_manual.copy()\n\n# Calculate ATR for volatility-based stops\ndf_risk['atr'] = IndicatorCalculator.atr(df_risk['high'], df_risk['low'], df_risk['close'], 14)\n\n# Risk management techniques\ndf_risk['obv'] = IndicatorCalculator.obv(df_risk['close'], df_risk['volume'])\ndf_risk['obv_ma'] = df_risk['obv'].rolling(window=10).mean()\n\n# 1. Position sizing based on OBV strength\ndf_risk['obv_strength'] = abs(df_risk['obv'] - df_risk['obv_ma']) / df_risk['obv'].rolling(window=20).std()\ndf_risk['position_size'] = np.where(\n    df_risk['obv_strength'] > df_risk['obv_strength'].quantile(0.7), 1.0,  # Large position for strong OBV\n    np.where(\n        df_risk['obv_strength'] > df_risk['obv_strength'].quantile(0.3), 0.5,  # Medium position\n        0.25  # Small position for weak OBV\n    )\n)\n\n# 2. Stop loss based on OBV and ATR\nstop_loss_multiplier = 1.5\ndf_risk['stop_loss_long'] = df_risk['close'] - (stop_loss_multiplier * df_risk['atr'])\ndf_risk['stop_loss_short'] = df_risk['close'] + (stop_loss_multiplier * df_risk['atr'])\n\n# 3. Risk-reward ratio based on OBV strength\ndf_risk['obv_target_distance'] = df_risk['obv'].rolling(window=10).std()\ndf_risk['reward_per_unit'] = df_risk['obv_target_distance'] * 0.5  # Scale factor\ndf_risk['risk_per_unit'] = df_risk['atr'] * stop_loss_multiplier\ndf_risk['risk_reward_ratio'] = df_risk['reward_per_unit'] / df_risk['risk_per_unit']\n\n# Plot risk management\nfig, axes = plt.subplots(2, 2, figsize=(15, 10))\n\n# Position sizing\naxes[0, 0].plot(df_risk.index, df_risk['position_size'], label='Position Size', color='blue', linewidth=2)\naxes[0, 0].fill_between(df_risk.index, df_risk['position_size'], alpha=0.3, color='blue')\naxes[0, 0].set_title('Position Sizing Based on OBV Strength')\naxes[0, 0].set_ylabel('Position Size (Multiplier)')\naxes[0, 0].legend()\naxes[0, 0].grid(True, alpha=0.3)\n\n# OBV strength and position size\naxes[0, 1].scatter(df_risk['obv_strength'], df_risk['position_size'], alpha=0.6, c=df_risk['obv_strength'], cmap='viridis')\naxes[0, 1].set_title('Position Size vs OBV Strength')\naxes[0, 1].set_xlabel('OBV Strength')\naxes[0, 1].set_ylabel('Position Size')\naxes[0, 1].grid(True, alpha=0.3)\n\n# Risk-reward ratio\naxes[1, 0].plot(df_risk.index, df_risk['risk_reward_ratio'], label='Risk-Reward Ratio', color='orange')\naxes[1, 0].axhline(y=2, color='red', linestyle='--', label='Minimum 2:1 Ratio')\naxes[1, 0].fill_between(df_risk.index, df_risk['risk_reward_ratio'], 2, alpha=0.3, color='orange')\naxes[1, 0].set_title('Risk-Reward Ratio Analysis')\naxes[1, 0].set_ylabel('Ratio')\naxes[1, 0].legend()\naxes[1, 0].grid(True, alpha=0.3)\n\n# OBV strength distribution\naxes[1, 1].hist(df_risk['obv_strength'].dropna(), bins=30, alpha=0.7, color='green', edgecolor='black')\naxes[1, 1].axvline(x=df_risk['obv_strength'].quantile(0.7), color='red', linestyle='--', label='70th percentile')\naxes[1, 1].axvline(x=df_risk['obv_strength'].quantile(0.3), color='blue', linestyle='--', label='30th percentile')\naxes[1, 1].set_title('OBV Strength Distribution')\naxes[1, 1].set_xlabel('OBV Strength')\naxes[1, 1].set_ylabel('Frequency')\naxes[1, 1].legend()\naxes[1, 1].grid(True, alpha=0.3)\n\nplt.tight_layout()\nplt.show()\n\n# Risk management statistics\nprint(\"Risk Management Statistics:\")\nprint(f\"Average position size: {df_risk['position_size'].mean():.2f}\")\nprint(f\"Average risk-reward ratio: {df_risk['risk_reward_ratio'].mean():.2f}\")\nprint(f\"Trades with minimum 2:1 ratio: {(df_risk['risk_reward_ratio'] >= 2).sum()} ({(df_risk['risk_reward_ratio'] >= 2).mean()*100:.1f}%)\")\nprint(f\"Average OBV strength: {df_risk['obv_strength'].mean():.2f}\")",
   "metadata": {},
   "execution_count": null,
   "outputs": []
  },
  {
   "cell_type": "markdown",
   "source": "## 14. Conclusion\n\nThe On-Balance Volume (OBV) is a powerful volume-based indicator that provides valuable insights into the strength of price movements. By tracking the cumulative volume flow, OBV helps traders confirm trends, identify potential reversals, and make more informed trading decisions.\n\n### Key Takeaways:\n1. **Volume Confirmation**: OBV excels at validating price movements with actual trading volume\n2. **Trend Strength**: Measures the strength of price trends through volume accumulation\n3. **Divergence Detection**: Early warning of potential trend reversals through price-volume divergence\n4. **Trend Following**: Can be used to follow trends when combined with moving averages\n5. **Combination**: Works best when combined with price action and other technical indicators\n\n### Best Practices:\n- Use OBV in conjunction with price action rather than in isolation\n- Combine with moving averages for trend confirmation signals\n- Implement proper risk management techniques based on OBV strength\n- Consider market conditions when interpreting OBV signals\n- Test different parameters to find what works best for your trading style",
   "metadata": {}
  },
  {
   "cell_type": "markdown",
   "source": "## 15. Exercises\n\n### Exercise 1: Optimize OBV Parameters\nTest different OBV moving average periods to find the optimal combination for different market conditions. Create a function that tests multiple parameter combinations and returns the best performing one based on Sharpe ratio.\n\n### Exercise 2: Create OBV Strategy with RSI Confirmation\nModify the OBV trend following strategy to include RSI confirmation. Only enter trades when OBV signals are confirmed by RSI overbought/oversold levels.\n\n### Exercise 3: Implement OBV with Multiple Timeframe Analysis\nCreate a strategy that uses OBV signals from multiple timeframes (e.g., daily, 4-hour, 1-hour) and only enters trades when signals align across timeframes.\n\n### Solutions:\n```python\n# Exercise 1 Solution\ndef optimize_obv_parameters(data, ma_range):\n    best_sharpe = -float('inf')\n    best_params = None\n    \n    for ma_period in ma_range:\n        signals = obv_trend_following_strategy(data, ma_period)[['signal']]\n        engine = BacktestEngine()\n        result = engine.run_backtest(data, signals, f\"OBV_MA_{ma_period}\")\n        sharpe = result['metrics']['sharpe_ratio']\n        \n        if sharpe > best_sharpe:\n            best_sharpe = sharpe\n            best_params = ma_period\n    \n    return best_params, best_sharpe\n\n# Exercise 2 Solution\ndef obv_rsi_strategy(data, obv_period=10, rsi_period=14, oversold=30, overbought=70):\n    df = data.copy()\n    \n    # Calculate indicators\n    df['obv'] = IndicatorCalculator.obv(df['close'], df['volume'])\n    df['obv_ma'] = df['obv'].rolling(window=obv_period).mean()\n    df['rsi'] = IndicatorCalculator.rsi(df['close'], rsi_period)\n    \n    # Generate signals with OBV and RSI confirmation\n    df['signal'] = 0\n    \n    # Buy signal: OBV crosses above MA AND RSI confirms (not overbought)\n    buy_condition = ((df['obv'] > df['obv_ma']) & \n                     (df['obv'].shift(1) <= df['obv_ma'].shift(1)) &\n                     (df['rsi'] < overbought))\n    \n    # Sell signal: OBV crosses below MA AND RSI confirms (not oversold)\n    sell_condition = ((df['obv'] < df['obv_ma']) & \n                      (df['obv'].shift(1) >= df['obv_ma'].shift(1)) &\n                      (df['rsi'] > oversold))\n    \n    df.loc[buy_condition, 'signal'] = 1\n    df.loc[sell_condition, 'signal'] = -1\n    \n    return df\n\n# Exercise 3 Solution\ndef multi_timeframe_obv_strategy(daily_data, hourly_data, obv_period=10):\n    # Calculate OBV for both timeframes\n    daily_obv = IndicatorCalculator.obv(daily_data['close'], daily_data['volume'])\n    hourly_obv = IndicatorCalculator.obv(hourly_data['close'], hourly_data['volume'])\n    \n    # Determine trends for both timeframes\n    daily_trend = daily_obv > daily_obv.rolling(window=obv_period).mean()\n    hourly_trend = hourly_obv > hourly_obv.rolling(window=obv_period).mean()\n    \n    # Only trade when both timeframes agree\n    # This would require resampling hourly data to daily for comparison\n    # Implementation would depend on specific data structures\n```",
   "metadata": {}
  },
  {
   "cell_type": "markdown",
   "source": "## 16. Additional Resources\n\n- **Books**:\n  - \"New Stock Trend Detector\" by Joseph Granville\n  - \"Technical Analysis of the Financial Markets\" by John J. Murphy\n  - \"Trading Systems and Methods\" by Perry J. Kaufman\n\n- **Online Resources**:\n  - [TradingView Documentation](https://www.tradingview.com/pine-script-docs/)\n  - [Investopedia - OBV](https://www.investopedia.com/terms/o/onbalancevolume.asp)\n  - [Binance Academy - Technical Analysis](https://academy.binance.com/en/categories/technical-analysis)\n\n- **Research Papers**:\n  - \"Volume and Price Behavior in Stock Markets\" by John M. Griffin and Amin Shams\n  - \"The Role of Volume in Technical Analysis\" by Stephen J. Brown and William N. Goetzmann\n\n- **Tools**:\n  - [TradingView](https://www.tradingview.com/) - Charting and Pine Script\n  - [Binance](https://www.binance.com/) - Trading and indicators\n  - [Freqtrade](https://www.freqtrade.io/) - Algorithmic trading\n\n---\n\n**Disclaimer**: This tutorial is for educational purposes only. Trading cryptocurrencies involves significant risk. Always do your own research and consider consulting with a financial advisor before making investment decisions.",
   "metadata": {}
  }
 ],
 "metadata": {
  "kernelspec": {
   "display_name": "Python 3",
   "language": "python",
   "name": "python3"
  },
  "language_info": {
   "name": "python",
   "version": "3.8.0"
  }
 },
 "nbformat": 4,
 "nbformat_minor": 4
}